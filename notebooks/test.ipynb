{
 "cells": [
  {
   "cell_type": "code",
   "execution_count": 2,
   "id": "87cb2782",
   "metadata": {},
   "outputs": [],
   "source": [
    "import torch"
   ]
  },
  {
   "cell_type": "code",
   "execution_count": 3,
   "id": "0156f790",
   "metadata": {},
   "outputs": [],
   "source": [
    "conv = torch.nn.Conv1d(2, 2, 3, 1, 1, bias=False)\n",
    "\n"
   ]
  },
  {
   "cell_type": "code",
   "execution_count": 7,
   "id": "99f43b33",
   "metadata": {},
   "outputs": [],
   "source": [
    "torch.random.seed()\n",
    "\n",
    "a = torch.randn(1, 2, 5)"
   ]
  },
  {
   "cell_type": "code",
   "execution_count": 8,
   "id": "1ac6f9bc",
   "metadata": {},
   "outputs": [
    {
     "data": {
      "text/plain": [
       "tensor([[[ 0.8315,  1.5626, -1.0796,  1.0463, -1.0629],\n",
       "         [ 1.0887, -1.0647, -1.4379,  0.6933,  0.1697]]])"
      ]
     },
     "execution_count": 8,
     "metadata": {},
     "output_type": "execute_result"
    }
   ],
   "source": [
    "a"
   ]
  },
  {
   "cell_type": "code",
   "execution_count": 15,
   "id": "5f74a0d0",
   "metadata": {},
   "outputs": [
    {
     "data": {
      "text/plain": [
       "Parameter containing:\n",
       "tensor([[[-0.1173,  0.2098, -0.1975],\n",
       "         [ 0.1137,  0.3180,  0.4077]],\n",
       "\n",
       "        [[ 0.1487, -0.3026, -0.1037],\n",
       "         [ 0.3586, -0.1365,  0.2519]]], requires_grad=True)"
      ]
     },
     "execution_count": 15,
     "metadata": {},
     "output_type": "execute_result"
    }
   ],
   "source": [
    "conv.weight"
   ]
  },
  {
   "cell_type": "code",
   "execution_count": 11,
   "id": "b2737d7d",
   "metadata": {},
   "outputs": [
    {
     "data": {
      "text/plain": [
       "0.43816666666666665"
      ]
     },
     "execution_count": 11,
     "metadata": {},
     "output_type": "execute_result"
    }
   ],
   "source": [
    "(0.8315 + 1.5626 + -1.0796) / 3"
   ]
  },
  {
   "cell_type": "code",
   "execution_count": null,
   "id": "4e8e3292",
   "metadata": {},
   "outputs": [],
   "source": []
  }
 ],
 "metadata": {
  "kernelspec": {
   "display_name": "Python 3",
   "language": "python",
   "name": "python3"
  },
  "language_info": {
   "codemirror_mode": {
    "name": "ipython",
    "version": 3
   },
   "file_extension": ".py",
   "mimetype": "text/x-python",
   "name": "python",
   "nbconvert_exporter": "python",
   "pygments_lexer": "ipython3",
   "version": "3.13.2"
  }
 },
 "nbformat": 4,
 "nbformat_minor": 5
}
